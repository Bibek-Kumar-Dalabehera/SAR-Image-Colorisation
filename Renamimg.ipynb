{
 "cells": [
  {
   "cell_type": "code",
   "execution_count": null,
   "id": "40b0d40f-a3dd-4ec7-9b26-f02c622e3245",
   "metadata": {},
   "outputs": [],
   "source": [
    "import os\n",
    "\n",
    "# Folder containing the images\n",
    "folder_path = 'path/to/your/images/folder'\n",
    "\n",
    "# Specify the desired base name and the starting index for renaming\n",
    "base_name = \"image\"\n",
    "start_index = 1\n",
    "\n",
    "# Get the list of all files in the folder\n",
    "files = os.listdir(folder_path)\n",
    "\n",
    "# Filter only image files (you can add or modify extensions as needed)\n",
    "image_files = [f for f in files if f.endswith(('.png', '.jpg', '.jpeg'))]\n",
    "\n",
    "# Sort the files (optional, to ensure renaming in a sorted order)\n",
    "image_files.sort()\n",
    "\n",
    "# Loop through the image files and rename them\n",
    "for index, filename in enumerate(image_files, start=start_index):\n",
    "    # Extract the file extension\n",
    "    file_extension = os.path.splitext(filename)[1]\n",
    "    \n",
    "    # New name with sequence number (e.g., image1.jpg, image2.png, etc.)\n",
    "    new_name = f\"{base_name}{index}{file_extension}\"\n",
    "    \n",
    "    # Full paths for the original and new filenames\n",
    "    original_path = os.path.join(folder_path, filename)\n",
    "    new_path = os.path.join(folder_path, new_name)\n",
    "    \n",
    "    # Rename the file\n",
    "    os.rename(original_path, new_path)\n",
    "\n",
    "print(\"Renaming completed!\")"
   ]
  }
 ],
 "metadata": {
  "kernelspec": {
   "display_name": "Python 3 (ipykernel)",
   "language": "python",
   "name": "python3"
  },
  "language_info": {
   "codemirror_mode": {
    "name": "ipython",
    "version": 3
   },
   "file_extension": ".py",
   "mimetype": "text/x-python",
   "name": "python",
   "nbconvert_exporter": "python",
   "pygments_lexer": "ipython3",
   "version": "3.11.7"
  }
 },
 "nbformat": 4,
 "nbformat_minor": 5
}
